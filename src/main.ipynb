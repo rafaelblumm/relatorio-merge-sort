{
 "cells": [
  {
   "cell_type": "code",
   "execution_count": null,
   "metadata": {},
   "outputs": [],
   "source": [
    "import sortutils as srt\n",
    "\n",
    "# Gera amostras de dados com valores aleatórios\n",
    "srt.generateSample(10_000)\n",
    "srt.generateSample(500_000)\n",
    "srt.generateSample(1_000_000)"
   ]
  },
  {
   "cell_type": "code",
   "execution_count": null,
   "metadata": {},
   "outputs": [],
   "source": [
    "import sortutils as srt\n",
    "\n",
    "def get_sample_filenames(qnt):\n",
    "    return [\n",
    "        f\"ascending-order-{qnt}.txt\",\n",
    "        f\"random-order-{qnt}.txt\",\n",
    "        f\"descending-order-{qnt}.txt\"\n",
    "    ]\n",
    "\n",
    "benchmarks = {\n",
    "    '10.000': srt.benchmarkMergeSort(get_sample_filenames(10_000)),\n",
    "    '500.000': srt.benchmarkMergeSort(get_sample_filenames(500_000)),\n",
    "    '1.000.000': srt.benchmarkMergeSort(get_sample_filenames(1_000_000)),\n",
    "}\n",
    "\n",
    "srt.plot(benchmarks)"
   ]
  }
 ],
 "metadata": {
  "kernelspec": {
   "display_name": "Python 3",
   "language": "python",
   "name": "python3"
  },
  "language_info": {
   "codemirror_mode": {
    "name": "ipython",
    "version": 3
   },
   "file_extension": ".py",
   "mimetype": "text/x-python",
   "name": "python",
   "nbconvert_exporter": "python",
   "pygments_lexer": "ipython3",
   "version": "3.11.2"
  }
 },
 "nbformat": 4,
 "nbformat_minor": 2
}
