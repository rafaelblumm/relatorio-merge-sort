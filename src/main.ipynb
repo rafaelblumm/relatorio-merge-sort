{
 "cells": [
  {
   "cell_type": "code",
   "execution_count": null,
   "metadata": {},
   "outputs": [],
   "source": [
    "import sortutils as srt\n",
    "\n",
    "# Gera amostras de dados numéricos com valores aleatórios\n",
    "srt.generate_sample_int(10_000)\n",
    "srt.generate_sample_int(500_000)\n",
    "srt.generate_sample_int(1_000_000)\n",
    "\n",
    "# Gera amostras de dados a partir de listas de palavras\n",
    "srt.generate_sample_str(\"pokemon\")\n",
    "srt.generate_sample_str(\"dictenus\")\n",
    "srt.generate_sample_str(\"dictptbr\")\n",
    "\n",
    "# Gera amostras de dados numéricos com valores aleatórios\n",
    "# (para comparação com lista de palavras)\n",
    "srt.generate_sample_int(1_008)\n",
    "srt.generate_sample_int(69_902)\n",
    "srt.generate_sample_int(256_991)\n"
   ]
  },
  {
   "cell_type": "code",
   "execution_count": null,
   "metadata": {},
   "outputs": [],
   "source": [
    "#\n",
    "# Benchmark de números aleatórios (quantidades arbitrárias)\n",
    "#\n",
    "\n",
    "import sortutils as srt\n",
    "\n",
    "benchmarks = {\n",
    "    '10.000': srt.benchmark_merge_sort(10_000),\n",
    "    '500.000': srt.benchmark_merge_sort(500_000),\n",
    "    '1.000.000': srt.benchmark_merge_sort(1_000_000),\n",
    "}\n",
    "\n",
    "srt.plot(benchmarks, \"valores numéricos\")"
   ]
  },
  {
   "cell_type": "code",
   "execution_count": null,
   "metadata": {},
   "outputs": [],
   "source": [
    "#\n",
    "# Benchmark de dicionários de palavras\n",
    "#\n",
    "\n",
    "import sortutils as srt\n",
    "\n",
    "benchmarks = {\n",
    "    'Pokédex (1.008)': srt.benchmark_merge_sort(\"pokemon\"),\n",
    "    'EN-US (69.902)': srt.benchmark_merge_sort(\"dictenus\"),\n",
    "    'PT-BR (256.991)': srt.benchmark_merge_sort(\"dictptbr\"),\n",
    "}\n",
    "\n",
    "srt.plot(benchmarks, \"palavras\")"
   ]
  },
  {
   "cell_type": "code",
   "execution_count": null,
   "metadata": {},
   "outputs": [],
   "source": [
    "#\n",
    "# Benchmark de números aleatórios\n",
    "# (mesma quantidade que dicionários de palavras)\n",
    "#\n",
    "\n",
    "import sortutils as srt\n",
    "\n",
    "benchmarks = {\n",
    "    '1.008': srt.benchmark_merge_sort(1_008),\n",
    "    '69.902': srt.benchmark_merge_sort(69_902),\n",
    "    '256.991': srt.benchmark_merge_sort(256_991),\n",
    "}\n",
    "\n",
    "srt.plot(benchmarks, \"valores numéricos\")"
   ]
  }
 ],
 "metadata": {
  "kernelspec": {
   "display_name": "Python 3",
   "language": "python",
   "name": "python3"
  },
  "language_info": {
   "codemirror_mode": {
    "name": "ipython",
    "version": 3
   },
   "file_extension": ".py",
   "mimetype": "text/x-python",
   "name": "python",
   "nbconvert_exporter": "python",
   "pygments_lexer": "ipython3",
   "version": "3.11.2"
  }
 },
 "nbformat": 4,
 "nbformat_minor": 2
}
